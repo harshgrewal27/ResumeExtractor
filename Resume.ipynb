{
 "cells": [
  {
   "cell_type": "code",
   "execution_count": 1,
   "id": "3b03bfa8",
   "metadata": {},
   "outputs": [],
   "source": [
    "import spacy\n",
    "import pdfminer\n",
    "import re\n",
    "import os\n",
    "import pdf2txt\n",
    "import pandas as pd"
   ]
  },
  {
   "cell_type": "code",
   "execution_count": 2,
   "id": "6cc214b8",
   "metadata": {},
   "outputs": [],
   "source": [
    "nlp = spacy.load('en_core_web_sm')"
   ]
  },
  {
   "cell_type": "code",
   "execution_count": 3,
   "id": "302a87a5",
   "metadata": {},
   "outputs": [],
   "source": [
    "def convert_pdf(file):\n",
    "    output_file = os.path.basename(os.path.splitext(file)[0]) + \".txt\"\n",
    "    outputfile_path = os.path.join('output/txt/',output_file)\n",
    "    pdf2txt.main(args=[file, '--outfile',outputfile_path])\n",
    "    print(outputfile_path+\"saved successfully\")\n",
    "    return outputfile_path\n",
    "    #open(outputfile_path,'r')"
   ]
  },
  {
   "cell_type": "code",
   "execution_count": 12,
   "id": "a3af596a",
   "metadata": {},
   "outputs": [],
   "source": [
    "result_dict = {\"name\" : [] ,\"phone\" : [] , \"email\" : [] , \"skills\" : [] }\n",
    "names=[]\n",
    "phones=[]\n",
    "emails= []\n",
    "skills= []"
   ]
  },
  {
   "cell_type": "code",
   "execution_count": 13,
   "id": "a1b3fe9f",
   "metadata": {},
   "outputs": [],
   "source": [
    "def convert_dataframe():\n",
    "    resumedf = pd.DataFrame({\"name\" :names,\"phone\": phones,\"email id\":emails,\"skills\":skills})\n",
    "    return resumedf"
   ]
  },
  {
   "cell_type": "code",
   "execution_count": 14,
   "id": "b33d8b50",
   "metadata": {},
   "outputs": [],
   "source": [
    "def parse_content(text):\n",
    "    skillset = re.compile('python|java|sql|hadoop|tableau')\n",
    "    phonenum = re.compile(r\"\\+\\d{12}|\\d{10}\")\n",
    "    resume=nlp(text)\n",
    "    try:\n",
    "        name = [entity.text for entity in resume.ents if entity.label_ == \"PERSON\"][0]\n",
    "    except:\n",
    "        name = [entity.text for entity in resume if (entity.pos_ == \"PROPN\" or entity.pos_ == \"NOUN\")][:2]\n",
    "        name = \" \".join(name)\n",
    "    email = [word for word in resume if word.like_email == True][0]\n",
    "    phone=str(re.findall(phonenum , text.lower()))\n",
    "    skills_list = re.findall(skillset,text.lower())\n",
    "    unique_skill_list = str(set(skills_list))\n",
    "    names.append(name)\n",
    "    phones.append(phone)\n",
    "    emails.append(email)\n",
    "    skills.append(unique_skill_list)"
   ]
  },
  {
   "cell_type": "code",
   "execution_count": 15,
   "id": "b688e50b",
   "metadata": {},
   "outputs": [
    {
     "name": "stdout",
     "output_type": "stream",
     "text": [
      "output/txt/CV.txtsaved successfully\n",
      "output/txt/Harsh's Resume (1).txtsaved successfully\n",
      "output/txt/Harsh's Resume (2).txtsaved successfully\n",
      "output/txt/Harsh's Resume.txtsaved successfully\n",
      "output/txt/harsh.txtsaved successfully\n"
     ]
    }
   ],
   "source": [
    "for file in os.listdir('sample/'):\n",
    "    if file.endswith(\".pdf\"):\n",
    "        txt=convert_pdf(os.path.join(\"sample/\",file))\n",
    "        f = open(txt,encoding='utf8').read()\n",
    "        parse_content(f)\n",
    "df= convert_dataframe()\n",
    "df.to_csv(\"output/csv/resume.csv\",index=False)\n"
   ]
  },
  {
   "cell_type": "code",
   "execution_count": 16,
   "id": "eb5b3766",
   "metadata": {},
   "outputs": [
    {
     "data": {
      "text/html": [
       "<div>\n",
       "<style scoped>\n",
       "    .dataframe tbody tr th:only-of-type {\n",
       "        vertical-align: middle;\n",
       "    }\n",
       "\n",
       "    .dataframe tbody tr th {\n",
       "        vertical-align: top;\n",
       "    }\n",
       "\n",
       "    .dataframe thead th {\n",
       "        text-align: right;\n",
       "    }\n",
       "</style>\n",
       "<table border=\"1\" class=\"dataframe\">\n",
       "  <thead>\n",
       "    <tr style=\"text-align: right;\">\n",
       "      <th></th>\n",
       "      <th>name</th>\n",
       "      <th>phone</th>\n",
       "      <th>email id</th>\n",
       "      <th>skills</th>\n",
       "    </tr>\n",
       "  </thead>\n",
       "  <tbody>\n",
       "    <tr>\n",
       "      <th>0</th>\n",
       "      <td>Yatharth Agarwal</td>\n",
       "      <td>[]</td>\n",
       "      <td>yatharth2001.agr@gmail.com</td>\n",
       "      <td>{'python'}</td>\n",
       "    </tr>\n",
       "    <tr>\n",
       "      <th>1</th>\n",
       "      <td>grewal self</td>\n",
       "      <td>['7290800101']</td>\n",
       "      <td>harshgrewal2700@gmail.com</td>\n",
       "      <td>{'java', 'python', 'sql'}</td>\n",
       "    </tr>\n",
       "    <tr>\n",
       "      <th>2</th>\n",
       "      <td>grewal self</td>\n",
       "      <td>['7290800101']</td>\n",
       "      <td>harshgrewal2700@gmail.com</td>\n",
       "      <td>{'java', 'python', 'sql'}</td>\n",
       "    </tr>\n",
       "    <tr>\n",
       "      <th>3</th>\n",
       "      <td>grewal self</td>\n",
       "      <td>['7290800101']</td>\n",
       "      <td>harshgrewal2700@gmail.com</td>\n",
       "      <td>{'java', 'python', 'sql'}</td>\n",
       "    </tr>\n",
       "    <tr>\n",
       "      <th>4</th>\n",
       "      <td>grewal self</td>\n",
       "      <td>['7290800101']</td>\n",
       "      <td>harshgrewal2700@gmail.com</td>\n",
       "      <td>{'java', 'python', 'sql'}</td>\n",
       "    </tr>\n",
       "  </tbody>\n",
       "</table>\n",
       "</div>"
      ],
      "text/plain": [
       "               name           phone                    email id  \\\n",
       "0  Yatharth Agarwal              []  yatharth2001.agr@gmail.com   \n",
       "1       grewal self  ['7290800101']   harshgrewal2700@gmail.com   \n",
       "2       grewal self  ['7290800101']   harshgrewal2700@gmail.com   \n",
       "3       grewal self  ['7290800101']   harshgrewal2700@gmail.com   \n",
       "4       grewal self  ['7290800101']   harshgrewal2700@gmail.com   \n",
       "\n",
       "                      skills  \n",
       "0                 {'python'}  \n",
       "1  {'java', 'python', 'sql'}  \n",
       "2  {'java', 'python', 'sql'}  \n",
       "3  {'java', 'python', 'sql'}  \n",
       "4  {'java', 'python', 'sql'}  "
      ]
     },
     "execution_count": 16,
     "metadata": {},
     "output_type": "execute_result"
    }
   ],
   "source": [
    "df"
   ]
  },
  {
   "cell_type": "code",
   "execution_count": null,
   "id": "96f88372",
   "metadata": {},
   "outputs": [],
   "source": []
  }
 ],
 "metadata": {
  "interpreter": {
   "hash": "47311cd70699a3d9f43f946c0b39551d141fe0a2bd213f4d83cdf94bf8d8eb7e"
  },
  "kernelspec": {
   "display_name": "Python 3 (ipykernel)",
   "language": "python",
   "name": "python3"
  },
  "language_info": {
   "codemirror_mode": {
    "name": "ipython",
    "version": 3
   },
   "file_extension": ".py",
   "mimetype": "text/x-python",
   "name": "python",
   "nbconvert_exporter": "python",
   "pygments_lexer": "ipython3",
   "version": "3.9.7"
  }
 },
 "nbformat": 4,
 "nbformat_minor": 5
}
